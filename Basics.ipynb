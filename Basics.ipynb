{
 "cells": [
  {
   "cell_type": "code",
   "execution_count": 1,
   "metadata": {
    "collapsed": false
   },
   "outputs": [
    {
     "data": {
      "text/plain": [
       "['year,month,date_of_month,day_of_week,births',\n",
       " '1994,1,1,6,8096',\n",
       " '1994,1,2,7,7772',\n",
       " '1994,1,3,1,10142',\n",
       " '1994,1,4,2,11248',\n",
       " '1994,1,5,3,11053',\n",
       " '1994,1,6,4,11406',\n",
       " '1994,1,7,5,11251',\n",
       " '1994,1,8,6,8653',\n",
       " '1994,1,9,7,7910']"
      ]
     },
     "execution_count": 1,
     "metadata": {},
     "output_type": "execute_result"
    }
   ],
   "source": [
    "f = open(\"US_births_1994-2003_CDC_NCHS.csv\",'r')\n",
    "string = f.read()\n",
    "split_string = string.split(\"\\n\")\n",
    "split_string[0:10]"
   ]
  },
  {
   "cell_type": "code",
   "execution_count": 2,
   "metadata": {
    "collapsed": false
   },
   "outputs": [
    {
     "data": {
      "text/plain": [
       "[[1994, 1, 1, 6, 8096],\n",
       " [1994, 1, 2, 7, 7772],\n",
       " [1994, 1, 3, 1, 10142],\n",
       " [1994, 1, 4, 2, 11248],\n",
       " [1994, 1, 5, 3, 11053],\n",
       " [1994, 1, 6, 4, 11406],\n",
       " [1994, 1, 7, 5, 11251],\n",
       " [1994, 1, 8, 6, 8653],\n",
       " [1994, 1, 9, 7, 7910],\n",
       " [1994, 1, 10, 1, 10498]]"
      ]
     },
     "execution_count": 2,
     "metadata": {},
     "output_type": "execute_result"
    }
   ],
   "source": [
    "def read_csv(file_name):\n",
    "    f2 = open(file_name,'r')\n",
    "    string2 = f2.read()\n",
    "    split_string2 = string.split(\"\\n\")\n",
    "    string_list = split_string2[1:len(split_string)]\n",
    "    final_list =[]\n",
    "    for row in string_list:\n",
    "        int_fields = []\n",
    "        string_fields = row.split(',')\n",
    "        for field in string_fields:\n",
    "            int_fields.append(int(field))\n",
    "        final_list.append(int_fields)\n",
    "        \n",
    "    return final_list\n",
    "\n",
    "cdc_list = read_csv(\"US_births_1994-2003_CDC_NCHS.csv\")\n",
    "\n",
    "cdc_list[0:10]"
   ]
  },
  {
   "cell_type": "code",
   "execution_count": 3,
   "metadata": {
    "collapsed": false
   },
   "outputs": [
    {
     "data": {
      "text/plain": [
       "{1: 3232517,\n",
       " 2: 3018140,\n",
       " 3: 3322069,\n",
       " 4: 3185314,\n",
       " 5: 3350907,\n",
       " 6: 3296530,\n",
       " 7: 3498783,\n",
       " 8: 3525858,\n",
       " 9: 3439698,\n",
       " 10: 3378814,\n",
       " 11: 3171647,\n",
       " 12: 3301860}"
      ]
     },
     "execution_count": 3,
     "metadata": {},
     "output_type": "execute_result"
    }
   ],
   "source": [
    "def month_births(list_list):\n",
    "    births_per_month = {}\n",
    "    for rows in list_list:\n",
    "        month = rows[1]\n",
    "        births = rows[4]\n",
    "        if month in births_per_month:\n",
    "            births_per_month[month] += births\n",
    "        else:\n",
    "            births_per_month[month] = births\n",
    "            \n",
    "    return births_per_month\n",
    "\n",
    "cdc_month_births = month_births(cdc_list)\n",
    "cdc_month_births\n"
   ]
  },
  {
   "cell_type": "code",
   "execution_count": 5,
   "metadata": {
    "collapsed": false
   },
   "outputs": [
    {
     "data": {
      "text/plain": [
       "{1: 5789166,\n",
       " 2: 6446196,\n",
       " 3: 6322855,\n",
       " 4: 6288429,\n",
       " 5: 6233657,\n",
       " 6: 4562111,\n",
       " 7: 4079723}"
      ]
     },
     "execution_count": 5,
     "metadata": {},
     "output_type": "execute_result"
    }
   ],
   "source": [
    "def dow_births(list_list):\n",
    "    births_per_dow = {}\n",
    "    for rows in list_list:\n",
    "        dow = rows[3]\n",
    "        births = rows[4]\n",
    "        if dow in births_per_dow:\n",
    "            births_per_dow[dow] += births\n",
    "        else:\n",
    "            births_per_dow[dow] = births\n",
    "            \n",
    "    return births_per_dow\n",
    "\n",
    "cdc_day_births = dow_births(cdc_list)\n",
    "cdc_day_births"
   ]
  },
  {
   "cell_type": "code",
   "execution_count": 7,
   "metadata": {
    "collapsed": false
   },
   "outputs": [
    {
     "data": {
      "text/plain": [
       "{1: 5789166,\n",
       " 2: 6446196,\n",
       " 3: 6322855,\n",
       " 4: 6288429,\n",
       " 5: 6233657,\n",
       " 6: 4562111,\n",
       " 7: 4079723}"
      ]
     },
     "execution_count": 7,
     "metadata": {},
     "output_type": "execute_result"
    }
   ],
   "source": [
    "def calc_counts(list_list, column):\n",
    "    births_per_col = {}\n",
    "    for rows in list_list:\n",
    "        col_val = rows[column]\n",
    "        births = rows[4]\n",
    "        if col_val in births_per_col:\n",
    "            births_per_col[col_val] += births\n",
    "        else:\n",
    "            births_per_col[col_val] = births\n",
    "            \n",
    "    return births_per_col\n",
    "\n",
    "cdc_year_births = calc_counts(cdc_list,0)\n",
    "cdc_month_births = calc_counts(cdc_list,1)\n",
    "cdc_dom_births = calc_counts(cdc_list,2)\n",
    "cdc_dow_births = calc_counts(cdc_list,3)\n",
    "cdc_dow_births"
   ]
  },
  {
   "cell_type": "code",
   "execution_count": null,
   "metadata": {
    "collapsed": true
   },
   "outputs": [],
   "source": []
  }
 ],
 "metadata": {
  "anaconda-cloud": {},
  "kernelspec": {
   "display_name": "Python 3",
   "language": "python",
   "name": "python3"
  },
  "language_info": {
   "codemirror_mode": {
    "name": "ipython",
    "version": 3
   },
   "file_extension": ".py",
   "mimetype": "text/x-python",
   "name": "python",
   "nbconvert_exporter": "python",
   "pygments_lexer": "ipython3",
   "version": "3.4.3"
  }
 },
 "nbformat": 4,
 "nbformat_minor": 1
}
